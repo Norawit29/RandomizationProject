{
  "nbformat": 4,
  "nbformat_minor": 0,
  "metadata": {
    "colab": {
      "provenance": [],
      "authorship_tag": "ABX9TyOG/KdUFJURkJThjje8Ifrr",
      "include_colab_link": true
    },
    "kernelspec": {
      "name": "python3",
      "display_name": "Python 3"
    },
    "language_info": {
      "name": "python"
    }
  },
  "cells": [
    {
      "cell_type": "markdown",
      "metadata": {
        "id": "view-in-github",
        "colab_type": "text"
      },
      "source": [
        "<a href=\"https://colab.research.google.com/github/Norawit29/RandomizationProject/blob/main/simulation.ipynb\" target=\"_parent\"><img src=\"https://colab.research.google.com/assets/colab-badge.svg\" alt=\"Open In Colab\"/></a>"
      ]
    },
    {
      "cell_type": "code",
      "execution_count": null,
      "metadata": {
        "colab": {
          "base_uri": "https://localhost:8080/"
        },
        "id": "yJ0VbbIP7ZZu",
        "outputId": "fb471fdf-3872-4e0c-d737-a4601f095381"
      },
      "outputs": [
        {
          "output_type": "stream",
          "name": "stdout",
          "text": [
            "Python 3.10.12\n"
          ]
        }
      ],
      "source": [
        "!python --version"
      ]
    },
    {
      "cell_type": "code",
      "source": [
        "import requests\n",
        "import hashlib\n",
        "from datetime import datetime, timedelta, timezone\n",
        "from typing import List, Dict, Any\n",
        "\n",
        "NIST_BEACON_URL = \"https://beacon.nist.gov/beacon/2.0/pulse/time/{}\"\n",
        "\n",
        "def fetch_nist_beacon(start_date_string: str, end_date_string: str) -> List[str]:\n",
        "    \"\"\"\n",
        "    Fetches NIST beacon values for each day in the specified range.\n",
        "\n",
        "    Parameters:\n",
        "        start_date_string: The start date string in YYYY-MM-DD format.\n",
        "        end_date_string: The end date string in YYYY-MM-DD format.\n",
        "\n",
        "    Returns:\n",
        "        A list of output values from the NIST beacon for each day in the range.\n",
        "\n",
        "    Raises:\n",
        "        ValueError: If the input date format is incorrect.\n",
        "        ConnectionError: If there's an issue fetching the beacon.\n",
        "    \"\"\"\n",
        "    start_date = datetime.strptime(start_date_string, \"%Y-%m-%d\").replace(tzinfo=timezone.utc)\n",
        "    end_date = datetime.strptime(end_date_string, \"%Y-%m-%d\").replace(tzinfo=timezone.utc)\n",
        "\n",
        "    output_values = []\n",
        "\n",
        "    current_date = start_date\n",
        "    while current_date <= end_date:\n",
        "        utc_timestamp_ms = int(current_date.timestamp() * 1000)\n",
        "\n",
        "        try:\n",
        "            response = requests.get(NIST_BEACON_URL.format(utc_timestamp_ms))\n",
        "            response.raise_for_status()\n",
        "            data = response.json()\n",
        "            output_values.append(data['pulse']['outputValue'])\n",
        "        except requests.HTTPError as http_err:\n",
        "            raise ConnectionError(f'HTTP error occurred: {http_err}') from None\n",
        "        except requests.ConnectionError as conn_err:\n",
        "            raise ConnectionError(f'Connection error occurred: {conn_err}') from None\n",
        "        except requests.Timeout as timeout_err:\n",
        "            raise ConnectionError(f'Timeout error occurred: {timeout_err}') from None\n",
        "        except KeyError as key_err:\n",
        "            raise ValueError('Unexpected response format from NIST beacon.') from key_err\n",
        "\n",
        "        current_date += timedelta(days=1)\n",
        "\n",
        "    return output_values\n",
        "\n",
        "\n",
        "def sha3_512_hash_list(input_strings: List[str]) -> List[str]:\n",
        "    \"\"\"\n",
        "    Hashes the input strings with SHA3-512 and returns the values.\n",
        "\n",
        "    Parameters:\n",
        "        input_strings: The strings to be hashed.\n",
        "\n",
        "    Returns:\n",
        "        The hexadecimal representations of the hashes.\n",
        "    \"\"\"\n",
        "    hash_values = [hashlib.sha3_512(s.encode()).hexdigest() for s in input_strings]\n",
        "\n",
        "    return hash_values\n"
      ],
      "metadata": {
        "id": "YF6hClLB7dFx"
      },
      "execution_count": null,
      "outputs": []
    },
    {
      "cell_type": "code",
      "source": [
        "import numpy as np\n",
        "import matplotlib.pyplot as plt\n",
        "from scipy.stats import chisquare\n",
        "from typing import List, Tuple\n",
        "import seaborn as sns\n",
        "\n",
        "def calculate_position_distribution(beacon_values: List[str], observed_data: List[str]) -> np.ndarray:\n",
        "    \"\"\"\n",
        "    Calculates the position distribution of hashed IDs using beacon values.\n",
        "\n",
        "    Parameters:\n",
        "        beacon_values: List of beacon values used for hashing.\n",
        "        observed_data: List of participant IDs.\n",
        "\n",
        "    Returns:\n",
        "        A 2D numpy array representing the position distribution.\n",
        "    \"\"\"\n",
        "    original_id_to_position = {id_: idx for idx, id_ in enumerate(observed_data)}\n",
        "    position_distribution = np.zeros((len(observed_data), len(observed_data)))\n",
        "\n",
        "    for beacon_value in beacon_values:\n",
        "      # Append beacon value to each participant ID and hash\n",
        "       hashed_ids = sha3_512_hash_list([str(id_) + beacon_value for id_ in observed_data])\n",
        "\n",
        "      # Sort the hash values in lexicographic order\n",
        "       hashed_ids_sort = hashed_ids.copy()\n",
        "       hashed_ids_sort.sort()\n",
        "      # random.shuffle(hashed_ids_sort)\n",
        "\n",
        "       for position, hashed_id in enumerate(hashed_ids_sort):\n",
        "          original_id_index = original_id_to_position[observed_data[hashed_ids.index(hashed_id)]]\n",
        "          position_distribution[original_id_index, position] += 1\n",
        "\n",
        "    return position_distribution\n",
        "\n",
        "\n",
        "def plot_position_distribution(position_distribution: np.ndarray, observed_data: List[str]):\n",
        "    \"\"\"\n",
        "    Plots the position distribution.\n",
        "\n",
        "    Parameters:\n",
        "        position_distribution: 2D numpy array from calculate_position_distribution function.\n",
        "        observed_data: List of participant IDs.\n",
        "    \"\"\"\n",
        "    plt.figure(figsize=(8, 8))  # Adjusted to make the figure square\n",
        "    plt.imshow(position_distribution, cmap='rocket', aspect='auto')\n",
        "    plt.colorbar(label='Frequency')\n",
        "    plt.xlabel('Order of Question')\n",
        "    plt.ylabel(\"Question Number\")\n",
        "    plt.title('Position Distribution of Each Number')\n",
        "\n",
        "    tick_labels = list(range(0, len(observed_data) + 1, 10))\n",
        "    plt.xticks(tick_labels, [str(i) for i in tick_labels], rotation=45)\n",
        "    plt.yticks(tick_labels, [str(i) for i in tick_labels])\n",
        "\n",
        "    plt.tight_layout()\n",
        "    plt.show()\n",
        "\n",
        "\n",
        "def perform_chi_square_test(position_distribution: np.ndarray, total_values: int) -> Tuple[float, float]:\n",
        "    \"\"\"\n",
        "    Performs a Chi-Square test on the position distribution.\n",
        "\n",
        "    Parameters:\n",
        "        position_distribution: 2D numpy array from calculate_position_distribution function.\n",
        "        total_values: Total number of values or trials in the Chi-Square test.\n",
        "\n",
        "    Returns:\n",
        "        A tuple of Chi-Square statistic and P-value.\n",
        "    \"\"\"\n",
        "    expected_frequency_per_position = total_values / position_distribution.shape[0]\n",
        "    expected_frequencies = np.full(position_distribution.shape, expected_frequency_per_position)\n",
        "    chi2_stat, p_val = chisquare(position_distribution.ravel(), f_exp=expected_frequencies.ravel())\n",
        "\n",
        "    return chi2_stat, p_val\n"
      ],
      "metadata": {
        "id": "9dxUF57g7gg9"
      },
      "execution_count": null,
      "outputs": []
    },
    {
      "cell_type": "code",
      "source": [
        "# Use of functions for each distinct step in the process\n",
        "\n",
        "# Fetch beacon values from 2022-11-01 to 2023-10-31\n",
        "beacon_values = fetch_nist_beacon(start_date_string=\"2022-11-01\", end_date_string=\"2023-10-31\")\n",
        "print(f\"Total number of beacon values: {len(beacon_values)}\")\n",
        "\n",
        "# Observed data, such as Question IDs\n",
        "observed_data = [str(i) for i in range(10)]\n",
        "\n",
        "# Calculate the position distribution\n",
        "position_distribution = calculate_position_distribution(beacon_values, observed_data)\n",
        "\n",
        "# Plot the position distribution\n",
        "plot_position_distribution(position_distribution, observed_data)\n",
        "\n",
        "# Perform the Chi-Square test and print the results\n",
        "chi2_stat, p_val = perform_chi_square_test(position_distribution, len(beacon_values))\n",
        "print(f\"Chi-Square Statistic: {chi2_stat}\")\n",
        "print(f\"P-value: {p_val}\")\n"
      ],
      "metadata": {
        "colab": {
          "base_uri": "https://localhost:8080/"
        },
        "id": "YAnFQhfR7jH9",
        "outputId": "2f2e473b-5084-4c21-957a-effb590ffaa0"
      },
      "execution_count": null,
      "outputs": [
        {
          "output_type": "stream",
          "name": "stdout",
          "text": [
            "Total number of beacon values: 365\n"
          ]
        },
        {
          "output_type": "display_data",
          "data": {
            "text/plain": [
              "<Figure size 800x800 with 2 Axes>"
            ],
            "image/png": "[encoded data removed]"
          },
          "metadata": {}
        },
        {
          "output_type": "stream",
          "name": "stdout",
          "text": [
            "Chi-Square Statistic: 100.95890410958903\n",
            "P-value: 0.4263679361001118\n"
          ]
        }
      ]
    },
    {
      "cell_type": "code",
      "source": [],
      "metadata": {
        "id": "MZ8IU5-H7li-"
      },
      "execution_count": null,
      "outputs": []
    }
  ]
}